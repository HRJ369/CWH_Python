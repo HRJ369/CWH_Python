{
  "nbformat": 4,
  "nbformat_minor": 0,
  "metadata": {
    "colab": {
      "provenance": [],
      "authorship_tag": "ABX9TyO494Ul5TYZ3gTeQ8JDN0A9",
      "include_colab_link": true
    },
    "kernelspec": {
      "name": "python3",
      "display_name": "Python 3"
    },
    "language_info": {
      "name": "python"
    }
  },
  "cells": [
    {
      "cell_type": "markdown",
      "metadata": {
        "id": "view-in-github",
        "colab_type": "text"
      },
      "source": [
        "<a href=\"https://colab.research.google.com/github/HRJ369/CWH_Python/blob/main/CWH_flie2.ipynb\" target=\"_parent\"><img src=\"https://colab.research.google.com/assets/colab-badge.svg\" alt=\"Open In Colab\"/></a>"
      ]
    },
    {
      "cell_type": "code",
      "execution_count": 45,
      "metadata": {
        "colab": {
          "base_uri": "https://localhost:8080/"
        },
        "id": "x5ouB6S-MRjX",
        "outputId": "c3cfb4c0-7bcb-4c5d-cd38-fb46dcdea44d"
      },
      "outputs": [
        {
          "output_type": "stream",
          "name": "stdout",
          "text": [
            "hello\n",
            "HOW ARE YOU\n"
          ]
        }
      ],
      "source": [
        "print(\"hello\\nHOW ARE YOU\")\n",
        "# I am fine thank you\n"
      ]
    },
    {
      "cell_type": "code",
      "source": [
        "print(\"He is a \\\"guy\\\" \")"
      ],
      "metadata": {
        "colab": {
          "base_uri": "https://localhost:8080/"
        },
        "id": "Su-EpfVWZweS",
        "outputId": "cd3b8f19-f79a-4470-b07e-ffb9c50d4f8a"
      },
      "execution_count": 46,
      "outputs": [
        {
          "output_type": "stream",
          "name": "stdout",
          "text": [
            "He is a \"guy\" \n"
          ]
        }
      ]
    },
    {
      "cell_type": "code",
      "source": [
        "print(\"Hello\", \"My phone number is \\:\", 6207, \"and I am a good guy\", sep=\"*\", end =\"400800\\n\")\n",
        "print(\"LOL\")"
      ],
      "metadata": {
        "colab": {
          "base_uri": "https://localhost:8080/"
        },
        "id": "QYhnRMQRdqCn",
        "outputId": "d5f805a0-8037-4445-c51a-a790a4d0c245"
      },
      "execution_count": 47,
      "outputs": [
        {
          "output_type": "stream",
          "name": "stdout",
          "text": [
            "Hello*My phone number is \\:*6207*and I am a good guy400800\n",
            "LOL\n"
          ]
        }
      ]
    },
    {
      "cell_type": "code",
      "source": [
        "#variables\n",
        "\n",
        "a = 1215984\n",
        "print(a)\n",
        "list1 = [\"hello\", 12132 , \"bye bye\", a, \"natural \\\"icecream\\\" maker \" ]\n",
        "print(list1)\n",
        "print(type(list1))"
      ],
      "metadata": {
        "colab": {
          "base_uri": "https://localhost:8080/"
        },
        "id": "nnGxJlvdgtXk",
        "outputId": "2cc34ba8-d067-4750-f1e3-dad3efbfb85d"
      },
      "execution_count": 48,
      "outputs": [
        {
          "output_type": "stream",
          "name": "stdout",
          "text": [
            "1215984\n",
            "['hello', 12132, 'bye bye', 1215984, 'natural \"icecream\" maker ']\n",
            "<class 'list'>\n"
          ]
        }
      ]
    },
    {
      "cell_type": "code",
      "source": [
        "#Calculator\n",
        "# Basic cheeze you know\n",
        "\n",
        "a = 7\n",
        "b = 3\n",
        "\n",
        "print(\"Addition=\" , a+b)\n",
        "print(\"Subtraction= \", a-b)\n",
        "print(\"Multiplication\", a*b)\n",
        "print(\"Division\",a/b)\n",
        "print(\"Floor Divison\",a//b)\n",
        "print(\"Modulo\",a%b)\n",
        "print(\"Exponential \",a**b)\n",
        "\n",
        "\n",
        "\n"
      ],
      "metadata": {
        "colab": {
          "base_uri": "https://localhost:8080/"
        },
        "id": "H4l7iwj4hbot",
        "outputId": "d1546327-faa0-4dbf-fe70-e107b2c4fb3c"
      },
      "execution_count": 49,
      "outputs": [
        {
          "output_type": "stream",
          "name": "stdout",
          "text": [
            "Addition= 10\n",
            "Subtraction=  4\n",
            "Multiplication 21\n",
            "Division 2.3333333333333335\n",
            "Floor Divison 2\n",
            "Modulo 1\n",
            "Exponential  343\n"
          ]
        }
      ]
    },
    {
      "cell_type": "code",
      "source": [
        "string = \"15\"\n",
        "number = 7\n",
        "print(int(string) + number )"
      ],
      "metadata": {
        "colab": {
          "base_uri": "https://localhost:8080/"
        },
        "id": "xfgFJYPymJKU",
        "outputId": "466c1eae-f195-4f4b-ec3e-6ef730535ba1"
      },
      "execution_count": 50,
      "outputs": [
        {
          "output_type": "stream",
          "name": "stdout",
          "text": [
            "22\n"
          ]
        }
      ]
    },
    {
      "cell_type": "code",
      "source": [
        "a = 9\n",
        "b =5\n",
        "c= a/b\n",
        "print(c)\n",
        "print(type(c))\n",
        "print(type(a))"
      ],
      "metadata": {
        "colab": {
          "base_uri": "https://localhost:8080/"
        },
        "id": "1reAUTY0mtE0",
        "outputId": "f2bd7c17-d334-4ed7-c11a-5410640f54d3"
      },
      "execution_count": 51,
      "outputs": [
        {
          "output_type": "stream",
          "name": "stdout",
          "text": [
            "1.8\n",
            "<class 'float'>\n",
            "<class 'int'>\n"
          ]
        }
      ]
    },
    {
      "cell_type": "code",
      "source": [
        "# Taking input\n",
        "a = int(input())\n",
        "b=int(input())\n",
        "print(a-b)"
      ],
      "metadata": {
        "colab": {
          "base_uri": "https://localhost:8080/"
        },
        "id": "UbRNsDu4sKnB",
        "outputId": "532430b3-62c5-4559-c3bc-484da1da1cdc"
      },
      "execution_count": 52,
      "outputs": [
        {
          "output_type": "stream",
          "name": "stdout",
          "text": [
            "5\n",
            "4\n",
            "1\n"
          ]
        }
      ]
    },
    {
      "cell_type": "code",
      "source": [
        "#strings\n",
        "\n",
        "# print(\"He said , \\\"I want to eat an apple\\\". \")\n",
        "\n",
        "a = \"Hello harsh\"\n",
        "\n",
        "for i in range(0,len(a)):\n",
        "  print(a[i])\n"
      ],
      "metadata": {
        "colab": {
          "base_uri": "https://localhost:8080/"
        },
        "id": "_xj7cwj7tMIO",
        "outputId": "3963e388-88c1-4d96-9ae3-daaaa30fe3f3"
      },
      "execution_count": 56,
      "outputs": [
        {
          "output_type": "stream",
          "name": "stdout",
          "text": [
            "H\n",
            "e\n",
            "l\n",
            "l\n",
            "o\n",
            " \n",
            "h\n",
            "a\n",
            "r\n",
            "s\n",
            "h\n"
          ]
        }
      ]
    },
    {
      "cell_type": "code",
      "source": [
        "name = \"Harsh\"\n",
        "print(len(name))\n",
        "print(name[0:len(name)])\n",
        "print(name[0:5])\n",
        "print(name[-4:-2])"
      ],
      "metadata": {
        "colab": {
          "base_uri": "https://localhost:8080/"
        },
        "id": "js8V77vqxayg",
        "outputId": "99a684a5-5318-404d-cab1-a22e2b8dd2b1"
      },
      "execution_count": 65,
      "outputs": [
        {
          "output_type": "stream",
          "name": "stdout",
          "text": [
            "5\n",
            "Harsh\n",
            "Harsh\n",
            "ar\n"
          ]
        }
      ]
    },
    {
      "cell_type": "code",
      "source": [
        "# a = 'AHDAJKJDbkjbADSKBkjdbkjbdkjBDKJBkjd'\n",
        "# print(len(a))\n",
        "# print(a.upper())\n",
        "# print(a.lower())\n",
        "\n",
        "a = ' Silver Spoon '\n",
        "print(a)\n",
        "print(a.strip())"
      ],
      "metadata": {
        "colab": {
          "base_uri": "https://localhost:8080/"
        },
        "id": "eM0jBLZ_Ft05",
        "outputId": "7f01b4e2-b677-49a6-b087-3cd16fd38fb5"
      },
      "execution_count": 4,
      "outputs": [
        {
          "output_type": "stream",
          "name": "stdout",
          "text": [
            " Silver Spoon \n",
            "Silver Spoon\n"
          ]
        }
      ]
    },
    {
      "cell_type": "code",
      "source": [
        "a = \"!!!!HindiEnglish!!!!\"\n",
        "print(a.rstrip(\"!\"))\n",
        "print(a.lstrip(\"!\"))\n",
        "print(a.strip(\"!\"))"
      ],
      "metadata": {
        "colab": {
          "base_uri": "https://localhost:8080/"
        },
        "id": "9SEhPtvNOoZO",
        "outputId": "346e9df5-34ae-4203-cf75-b46b5e7e6f62"
      },
      "execution_count": 6,
      "outputs": [
        {
          "output_type": "stream",
          "name": "stdout",
          "text": [
            "!!!!HindiEnglish\n",
            "HindiEnglish!!!!\n",
            "HindiEnglish\n"
          ]
        }
      ]
    },
    {
      "cell_type": "code",
      "source": [
        "b =\"FrenchGerman\"\n",
        "c = b.replace(\"German\",\"English\")\n",
        "print(c)\n",
        "\n",
        "d = \"hello I am a good boy 5052\"\n",
        "print(d.split())\n",
        "print(d.capitalize())\n",
        "e=d.center(50)\n",
        "print(len(d))\n",
        "print(e)\n",
        "print(\"The length of e is \" ,len(e))"
      ],
      "metadata": {
        "colab": {
          "base_uri": "https://localhost:8080/"
        },
        "id": "lJOs_QgDO87A",
        "outputId": "91d7fef7-e65b-45ff-88ad-e926f20d5f75"
      },
      "execution_count": 16,
      "outputs": [
        {
          "output_type": "stream",
          "name": "stdout",
          "text": [
            "FrenchEnglish\n",
            "['hello', 'I', 'am', 'a', 'good', 'boy', '5052']\n",
            "Hello i am a good boy 5052\n",
            "26\n",
            "            hello I am a good boy 5052            \n",
            "The length of e is  50\n"
          ]
        }
      ]
    },
    {
      "cell_type": "code",
      "source": [
        "print(d.count(\"I\"))\n",
        "print(d.find(\"good\"))\n",
        "print(d.index(\"good\"))\n",
        "print(d.isalnum())\n",
        "print(b.isalnum())"
      ],
      "metadata": {
        "colab": {
          "base_uri": "https://localhost:8080/"
        },
        "id": "NtE843WORoiY",
        "outputId": "e85b2c1b-d666-464a-9076-3bded3ff01ff"
      },
      "execution_count": 26,
      "outputs": [
        {
          "output_type": "stream",
          "name": "stdout",
          "text": [
            "1\n",
            "13\n",
            "13\n",
            "False\n",
            "True\n"
          ]
        }
      ]
    },
    {
      "cell_type": "code",
      "source": [
        " #Strings are immutable\n",
        "a = \"!!!Harry!! !!!!!!!!! Harry\"\n",
        "print(len(a))\n",
        "print(a)\n",
        "print(a.upper())\n",
        "print(a.lower())\n",
        "print(a.rstrip(\"!\"))\n",
        "print(a.replace(\"Harry\", \"John\"))\n",
        "print(a.split(\" \"))\n",
        "blogHeading = \"introduction tO jS\"\n",
        "print(blogHeading.capitalize())\n",
        "\n",
        "str1 = \"Welcome to the Console!!!\"\n",
        "print(len(str1))\n",
        "print(len(str1.center(50)))\n",
        "print(a.count(\"Harry\"))\n",
        "\n",
        "str1 = \"Welcome to the Console !!!\"\n",
        "print(str1.endswith(\"!!!\"))\n",
        "\n",
        "str1 = \"Welcome to the Console !!!\"\n",
        "print(str1.endswith(\"to\", 4, 10))\n",
        "\n",
        "str1 = \"He's name is Dan. He is an honest man.\"\n",
        "print(str1.find(\"ishh\"))\n",
        "# print(str1.index(\"ishh\"))\n",
        "\n",
        "str1 = \"WelcomeToTheConsole\"\n",
        "print(str1.isalnum())\n",
        "str1 = \"Welcome\"\n",
        "print(str1.isalpha())\n",
        "\n",
        "str1 = \"hello world\"\n",
        "print(str1.islower())\n",
        "\n",
        "str1 = \"We wish you a Merry Christmas\\n\"\n",
        "print(str1.isprintable())\n",
        "str1 = \"         \"       #using Spacebar\n",
        "print(str1.isspace())\n",
        "str2 = \"  \"       #using Tab\n",
        "print(str2.isspace())\n",
        "\n",
        "str1 = \"World Health Organization\"\n",
        "print(str1.istitle())\n",
        "\n",
        "str2 = \"To kill a Mocking bird\"\n",
        "print(str2.istitle())\n",
        "\n",
        "str1 = \"Python is a Interpreted Language\"\n",
        "print(str1.startswith(\"Python\"))\n",
        "\n",
        "str1 = \"Python is a Interpreted Language\"\n",
        "print(str1.swapcase())\n",
        "\n",
        "str1 = \"His name is Dan. Dan is an honest man.\"\n",
        "print(str1.title())"
      ],
      "metadata": {
        "colab": {
          "base_uri": "https://localhost:8080/"
        },
        "id": "TYowr3QTSa8u",
        "outputId": "be17eb7c-b3a2-49b1-d582-9e40c2f40bd7"
      },
      "execution_count": 28,
      "outputs": [
        {
          "output_type": "stream",
          "name": "stdout",
          "text": [
            "26\n",
            "!!!Harry!! !!!!!!!!! Harry\n",
            "!!!HARRY!! !!!!!!!!! HARRY\n",
            "!!!harry!! !!!!!!!!! harry\n",
            "!!!Harry!! !!!!!!!!! Harry\n",
            "!!!John!! !!!!!!!!! John\n",
            "['!!!Harry!!', '!!!!!!!!!', 'Harry']\n",
            "Introduction to js\n",
            "25\n",
            "50\n",
            "2\n",
            "True\n",
            "True\n",
            "-1\n",
            "True\n",
            "True\n",
            "True\n",
            "False\n",
            "True\n",
            "True\n",
            "True\n",
            "False\n",
            "True\n",
            "pYTHON IS A iNTERPRETED lANGUAGE\n",
            "His Name Is Dan. Dan Is An Honest Man.\n"
          ]
        }
      ]
    }
  ]
}