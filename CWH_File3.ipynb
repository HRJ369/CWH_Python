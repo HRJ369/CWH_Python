{
  "cells": [
    {
      "cell_type": "markdown",
      "metadata": {
        "id": "view-in-github",
        "colab_type": "text"
      },
      "source": [
        "<a href=\"https://colab.research.google.com/github/HRJ369/CWH_Python/blob/main/CWH_File3.ipynb\" target=\"_parent\"><img src=\"https://colab.research.google.com/assets/colab-badge.svg\" alt=\"Open In Colab\"/></a>"
      ]
    },
    {
      "cell_type": "code",
      "execution_count": null,
      "metadata": {
        "colab": {
          "base_uri": "https://localhost:8080/"
        },
        "id": "KG7xe6273vi-",
        "outputId": "8066443b-ec70-48c0-944f-2504d4d1e007"
      },
      "outputs": [
        {
          "output_type": "stream",
          "name": "stdout",
          "text": [
            "Enter your age = 711\n",
            "Your age is =  711\n",
            "You can drive\n",
            "You can vote\n",
            "But we recommend you not to\n",
            "Thank you \n"
          ]
        }
      ],
      "source": [
        "#IF -ELSE\n",
        "age= int(input(\"Enter your age = \"))\n",
        "print(\"Your age is = \", age)\n",
        "\n",
        "if(age>=18 and age<70):\n",
        "  print(\"You can drive\")\n",
        "  print(\"You can vote\")\n",
        "\n",
        "elif(age>=70):\n",
        "  print(\"You can drive\")\n",
        "  print(\"You can vote\")\n",
        "  print(\"But we recommend you not to\")\n",
        "else:\n",
        "  print(\"Grow Up First, then drive !\")\n",
        "\n",
        "print(\"Thank you \")"
      ]
    },
    {
      "cell_type": "code",
      "source": [
        "a = int(input(\"Enter your number = \"))\n",
        "if(a<0):\n",
        "  print(\"The number is negative\")\n",
        "elif(a>=0 and a <100):\n",
        "  if(a>1 and a<10):\n",
        "    print(a, \"is between 1-10\")\n",
        "  elif(a==0):\n",
        "    print(\"Null is the number\")\n",
        "  else:\n",
        "    print(\"The number is between 10 to 100\")\n",
        "else:\n",
        "  print(\"The number is greater than 100\")\n",
        "\n",
        "\n",
        "print(\"Thank you\")"
      ],
      "metadata": {
        "colab": {
          "base_uri": "https://localhost:8080/"
        },
        "id": "kbYO6Q6s-vdz",
        "outputId": "c44ed4ae-55c3-426a-9393-3339ce7b0ee6"
      },
      "execution_count": null,
      "outputs": [
        {
          "output_type": "stream",
          "name": "stdout",
          "text": [
            "Enter your number = 55\n",
            "The number is between 10 to 100\n",
            "Thank you\n"
          ]
        }
      ]
    },
    {
      "cell_type": "code",
      "source": [],
      "metadata": {
        "id": "tCXATyQijdNN"
      },
      "execution_count": null,
      "outputs": []
    }
  ],
  "metadata": {
    "colab": {
      "provenance": [],
      "authorship_tag": "ABX9TyMq0+kZXWHsK6rBv/7oBLL6",
      "include_colab_link": true
    },
    "kernelspec": {
      "display_name": "Python 3",
      "name": "python3"
    },
    "language_info": {
      "name": "python"
    }
  },
  "nbformat": 4,
  "nbformat_minor": 0
}