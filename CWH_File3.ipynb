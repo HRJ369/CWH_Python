{
  "nbformat": 4,
  "nbformat_minor": 0,
  "metadata": {
    "colab": {
      "provenance": [],
      "authorship_tag": "ABX9TyPuojBHY1Pw96lg9JPsMEft",
      "include_colab_link": true
    },
    "kernelspec": {
      "name": "python3",
      "display_name": "Python 3"
    },
    "language_info": {
      "name": "python"
    }
  },
  "cells": [
    {
      "cell_type": "markdown",
      "metadata": {
        "id": "view-in-github",
        "colab_type": "text"
      },
      "source": [
        "<a href=\"https://colab.research.google.com/github/HRJ369/CWH_Python/blob/main/CWH_File3.ipynb\" target=\"_parent\"><img src=\"https://colab.research.google.com/assets/colab-badge.svg\" alt=\"Open In Colab\"/></a>"
      ]
    },
    {
      "cell_type": "code",
      "execution_count": null,
      "metadata": {
        "id": "KG7xe6273vi-"
      },
      "outputs": [],
      "source": [
        "#IF -ELSE\n",
        "age= int(input(\"Enter your age = \"))\n",
        "print(\"Your age is = \", age)\n",
        "\n",
        "if(age>=18 ):\n",
        "  print(\"You can drive\")\n",
        "  print(\"You can vote\")\n",
        "\n",
        "elif(age>=70):\n",
        "  print(\"But we recommend you not to\")\n",
        "else:\n",
        "  print(\"Grow Up First, then drive !\")\n",
        "\n",
        "print(\"Thank you \")"
      ]
    }
  ]
}