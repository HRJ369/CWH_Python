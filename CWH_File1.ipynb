{
  "nbformat": 4,
  "nbformat_minor": 0,
  "metadata": {
    "colab": {
      "provenance": [],
      "authorship_tag": "ABX9TyOMU0ZLLbC+/aAMSkEBflUs",
      "include_colab_link": true
    },
    "kernelspec": {
      "name": "python3",
      "display_name": "Python 3"
    },
    "language_info": {
      "name": "python"
    }
  },
  "cells": [
    {
      "cell_type": "markdown",
      "metadata": {
        "id": "view-in-github",
        "colab_type": "text"
      },
      "source": [
        "<a href=\"https://colab.research.google.com/github/HRJ369/CWH_Python/blob/main/CWH_File1.ipynb\" target=\"_parent\"><img src=\"https://colab.research.google.com/assets/colab-badge.svg\" alt=\"Open In Colab\"/></a>"
      ]
    },
    {
      "cell_type": "code",
      "execution_count": 2,
      "metadata": {
        "colab": {
          "base_uri": "https://localhost:8080/"
        },
        "id": "EQ1gMKVFaFYU",
        "outputId": "17c58f15-7f74-44c5-d5e2-7304cff82bb2"
      },
      "outputs": [
        {
          "output_type": "stream",
          "name": "stdout",
          "text": [
            "Hello world 5 I am great\n"
          ]
        }
      ],
      "source": [
        "print(\"Hello world\",5, \"I am great\")"
      ]
    },
    {
      "cell_type": "code",
      "source": [
        "#Day4"
      ],
      "metadata": {
        "id": "cVN0exphasif"
      },
      "execution_count": null,
      "outputs": []
    }
  ]
}